{
 "cells": [
  {
   "cell_type": "code",
   "execution_count": 1,
   "id": "869e5796",
   "metadata": {},
   "outputs": [
    {
     "ename": "ModuleNotFoundError",
     "evalue": "No module named 'musicsearchmodel.dataset'",
     "output_type": "error",
     "traceback": [
      "\u001b[1;31m---------------------------------------------------------------------------\u001b[0m",
      "\u001b[1;31mModuleNotFoundError\u001b[0m                       Traceback (most recent call last)",
      "\u001b[1;32m<ipython-input-1-9a921594abe7>\u001b[0m in \u001b[0;36m<module>\u001b[1;34m\u001b[0m\n\u001b[0;32m      1\u001b[0m \u001b[1;31m# import the necessary packages\u001b[0m\u001b[1;33m\u001b[0m\u001b[1;33m\u001b[0m\u001b[1;33m\u001b[0m\u001b[0m\n\u001b[1;32m----> 2\u001b[1;33m \u001b[1;32mfrom\u001b[0m \u001b[0mmusicsearchmodel\u001b[0m\u001b[1;33m.\u001b[0m\u001b[0mdataset\u001b[0m \u001b[1;32mimport\u001b[0m \u001b[0mTripletGenerator\u001b[0m\u001b[1;33m\u001b[0m\u001b[1;33m\u001b[0m\u001b[0m\n\u001b[0m\u001b[0;32m      3\u001b[0m \u001b[1;32mfrom\u001b[0m \u001b[0mmusicsearchmodel\u001b[0m\u001b[1;33m.\u001b[0m\u001b[0mdataset\u001b[0m \u001b[1;32mimport\u001b[0m \u001b[0mMapFunction\u001b[0m\u001b[1;33m\u001b[0m\u001b[1;33m\u001b[0m\u001b[0m\n\u001b[0;32m      4\u001b[0m \u001b[1;32mfrom\u001b[0m \u001b[0mmusicsearchmodel\u001b[0m\u001b[1;33m.\u001b[0m\u001b[0mmodel\u001b[0m \u001b[1;32mimport\u001b[0m \u001b[0mSiameseModel\u001b[0m\u001b[1;33m\u001b[0m\u001b[1;33m\u001b[0m\u001b[0m\n\u001b[0;32m      5\u001b[0m \u001b[1;32mfrom\u001b[0m \u001b[0mmatplotlib\u001b[0m \u001b[1;32mimport\u001b[0m \u001b[0mpyplot\u001b[0m \u001b[1;32mas\u001b[0m \u001b[0mplt\u001b[0m\u001b[1;33m\u001b[0m\u001b[1;33m\u001b[0m\u001b[0m\n",
      "\u001b[1;31mModuleNotFoundError\u001b[0m: No module named 'musicsearchmodel.dataset'"
     ]
    }
   ],
   "source": [
    "# import the necessary packages\n",
    "from musicsearchmodel.dataset import TripletGenerator\n",
    "from musicsearchmodel.dataset import MapFunction\n",
    "from musicsearchmodel.model import SiameseModel\n",
    "from matplotlib import pyplot as plt\n",
    "from musicsearchmodel import config\n",
    "from tensorflow import keras\n",
    "import tensorflow as tf\n",
    "import os\n",
    "# create the data input pipeline for test dataset\n",
    "print(\"[INFO] building the test generator...\")\n",
    "testTripletGenerator = TripletGenerator(\n",
    "    datasetPath=config.TEST_DATASET)\n",
    "print(\"[INFO] building the test `tf.data` dataset...\")\n",
    "testTfDataset = tf.data.Dataset.from_generator(\n",
    "    generator=testTripletGenerator.get_next_element,\n",
    "    output_signature=(\n",
    "        tf.TensorSpec(shape=(), dtype=tf.string),\n",
    "        tf.TensorSpec(shape=(), dtype=tf.string),\n",
    "        tf.TensorSpec(shape=(), dtype=tf.string),\n",
    "        )\n",
    ")\n",
    "mapFunction = MapFunction(imageSize=config.IMAGE_SIZE)\n",
    "testDs = (testTfDataset\n",
    "          .map(mapFunction)\n",
    "          .batch(4)\n",
    "          .prefetch(config.AUTO)\n",
    ")"
   ]
  },
  {
   "cell_type": "code",
   "execution_count": null,
   "id": "1aa495e6",
   "metadata": {},
   "outputs": [],
   "source": [
    "# load the siamese network from disk and build the siamese model\n",
    "modelPath = config.MODEL_PATH\n",
    "print(f\"[INFO] loading the siamese network from {modelPath}...\")\n",
    "siameseNetwork = keras.models.load_model(filepath=modelPath)\n",
    "siameseModel = SiameseModel(\n",
    "    siameseNetwork=siameseNetwork,\n",
    "    margin=0.5,\n",
    "    lossTracker=keras.metrics.Mean(name=\"loss\"),\n",
    ")\n",
    "# load the test data\n",
    "(anchor, positive, negative) = next(iter(testDs))\n",
    "(apDistance, anDistance) = siameseModel((anchor, positive, negative))\n",
    "plt.figure(figsize=(10, 10))\n",
    "rows = 4\n",
    "for row in range(rows):\n",
    "    plt.subplot(rows, 3, row * 3 + 1)\n",
    "    plt.imshow(anchor[row])\n",
    "    plt.axis(\"off\")\n",
    "    plt.title(\"Anchor image\")\n",
    "    plt.subplot(rows, 3, row * 3 + 2)\n",
    "    plt.imshow(positive[row])\n",
    "    plt.axis(\"off\")\n",
    "    plt.title(f\"Positive distance: {apDistance[row]:0.2f}\")\n",
    "    plt.subplot(rows, 3, row * 3 + 3)\n",
    "    plt.imshow(negative[row])\n",
    "    plt.axis(\"off\")\n",
    "    plt.title(f\"Negative distance: {anDistance[row]:0.2f}\")\n",
    "# check if the output directory exists, if it doesn't, then\n",
    "# create it\n",
    "if not os.path.exists(config.OUTPUT_PATH):\n",
    "    os.makedirs(config.OUTPUT_PATH)\n",
    "# save the inference image to disk\n",
    "outputImagePath = config.OUTPUT_IMAGE_PATH\n",
    "print(f\"[INFO] saving the inference image to {outputImagePath}...\")\n",
    "plt.savefig(fname=outputImagePath)"
   ]
  },
  {
   "cell_type": "code",
   "execution_count": null,
   "id": "a2bad2d5",
   "metadata": {},
   "outputs": [],
   "source": []
  }
 ],
 "metadata": {
  "kernelspec": {
   "display_name": "Python 3",
   "language": "python",
   "name": "python3"
  },
  "language_info": {
   "codemirror_mode": {
    "name": "ipython",
    "version": 3
   },
   "file_extension": ".py",
   "mimetype": "text/x-python",
   "name": "python",
   "nbconvert_exporter": "python",
   "pygments_lexer": "ipython3",
   "version": "3.8.8"
  }
 },
 "nbformat": 4,
 "nbformat_minor": 5
}
