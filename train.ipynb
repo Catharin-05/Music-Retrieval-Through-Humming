{
 "cells": [
  {
   "cell_type": "code",
   "execution_count": 3,
   "id": "cd08d4b4",
   "metadata": {},
   "outputs": [
    {
     "name": "stdout",
     "output_type": "stream",
     "text": [
      "[INFO] building the train and validation generators...\n"
     ]
    },
    {
     "ename": "AttributeError",
     "evalue": "'TripletGenerator' object has no attribute 'generate_all_song_dict'",
     "output_type": "error",
     "traceback": [
      "\u001b[1;31m---------------------------------------------------------------------------\u001b[0m",
      "\u001b[1;31mAttributeError\u001b[0m                            Traceback (most recent call last)",
      "\u001b[1;32m<ipython-input-3-7b5d8ebdcfe6>\u001b[0m in \u001b[0;36m<module>\u001b[1;34m\u001b[0m\n\u001b[0;32m     11\u001b[0m \u001b[1;31m# create the data input pipeline for train and val dataset\u001b[0m\u001b[1;33m\u001b[0m\u001b[1;33m\u001b[0m\u001b[1;33m\u001b[0m\u001b[0m\n\u001b[0;32m     12\u001b[0m \u001b[0mprint\u001b[0m\u001b[1;33m(\u001b[0m\u001b[1;34m\"[INFO] building the train and validation generators...\"\u001b[0m\u001b[1;33m)\u001b[0m\u001b[1;33m\u001b[0m\u001b[1;33m\u001b[0m\u001b[0m\n\u001b[1;32m---> 13\u001b[1;33m trainTripletGenerator = TripletGenerator(\n\u001b[0m\u001b[0;32m     14\u001b[0m     datasetPath=config.TRAIN_DATASET)\n\u001b[0;32m     15\u001b[0m valTripletGenerator = TripletGenerator(\n",
      "\u001b[1;32mD:\\Documents\\Python scripts\\Music Retrieval through humming\\musicsearchmodel\\dataset.py\u001b[0m in \u001b[0;36m__init__\u001b[1;34m(self, datasetPath)\u001b[0m\n\u001b[0;32m     53\u001b[0m                                 \u001b[0mself\u001b[0m\u001b[1;33m.\u001b[0m\u001b[0msongNames\u001b[0m\u001b[1;33m.\u001b[0m\u001b[0mappend\u001b[0m\u001b[1;33m(\u001b[0m\u001b[0mabsoluteFolderName\u001b[0m\u001b[1;33m)\u001b[0m\u001b[1;33m\u001b[0m\u001b[1;33m\u001b[0m\u001b[0m\n\u001b[0;32m     54\u001b[0m                 \u001b[1;31m# create a dictionary of song name to their image names\u001b[0m\u001b[1;33m\u001b[0m\u001b[1;33m\u001b[0m\u001b[1;33m\u001b[0m\u001b[0m\n\u001b[1;32m---> 55\u001b[1;33m                 \u001b[0mself\u001b[0m\u001b[1;33m.\u001b[0m\u001b[0mallsongs\u001b[0m \u001b[1;33m=\u001b[0m \u001b[0mself\u001b[0m\u001b[1;33m.\u001b[0m\u001b[0mgenerate_all_song_dict\u001b[0m\u001b[1;33m(\u001b[0m\u001b[1;33m)\u001b[0m\u001b[1;33m\u001b[0m\u001b[1;33m\u001b[0m\u001b[0m\n\u001b[0m\u001b[0;32m     56\u001b[0m         \u001b[1;32mdef\u001b[0m \u001b[0mgenerate_all_songs_dict\u001b[0m\u001b[1;33m(\u001b[0m\u001b[0mself\u001b[0m\u001b[1;33m)\u001b[0m\u001b[1;33m:\u001b[0m\u001b[1;33m\u001b[0m\u001b[1;33m\u001b[0m\u001b[0m\n\u001b[0;32m     57\u001b[0m                 \u001b[1;31m# create an empty dictionary that will be populated with\u001b[0m\u001b[1;33m\u001b[0m\u001b[1;33m\u001b[0m\u001b[1;33m\u001b[0m\u001b[0m\n",
      "\u001b[1;31mAttributeError\u001b[0m: 'TripletGenerator' object has no attribute 'generate_all_song_dict'"
     ]
    }
   ],
   "source": [
    "# import the necessary packages\n",
    "from musicsearchmodel.dataset import TripletGenerator\n",
    "from musicsearchmodel.model import get_embedding_module\n",
    "from musicsearchmodel.model import get_siamese_network\n",
    "from musicsearchmodel.model import SiameseModel\n",
    "from musicsearchmodel.dataset import MapFunction\n",
    "from musicsearchmodel import config\n",
    "from tensorflow import keras\n",
    "import tensorflow as tf\n",
    "import os\n",
    "# create the data input pipeline for train and val dataset\n",
    "print(\"[INFO] building the train and validation generators...\")\n",
    "trainTripletGenerator = TripletGenerator(\n",
    "    datasetPath=config.TRAIN_DATASET)\n",
    "valTripletGenerator = TripletGenerator(\n",
    "    datasetPath=config.TRAIN_DATASET)\n",
    "print(\"[INFO] building the train and validation `tf.data` dataset...\")\n",
    "trainTfDataset = tf.data.Dataset.from_generator(\n",
    "    generator=trainTripletGenerator.get_next_element,\n",
    "    output_signature=(\n",
    "        tf.TensorSpec(shape=(), dtype=tf.string),\n",
    "        tf.TensorSpec(shape=(), dtype=tf.string),\n",
    "        tf.TensorSpec(shape=(), dtype=tf.string),\n",
    "        )\n",
    ")\n",
    "valTfDataset = tf.data.Dataset.from_generator(\n",
    "    generator=valTripletGenerator.get_next_element,\n",
    "    output_signature=(\n",
    "        tf.TensorSpec(shape=(), dtype=tf.string),\n",
    "        tf.TensorSpec(shape=(), dtype=tf.string),\n",
    "        tf.TensorSpec(shape=(), dtype=tf.string),\n",
    "        )\n",
    ")"
   ]
  },
  {
   "cell_type": "code",
   "execution_count": null,
   "id": "6b0a3af2",
   "metadata": {},
   "outputs": [],
   "source": [
    "# preprocess the images\n",
    "mapFunction = MapFunction(imageSize=config.IMAGE_SIZE)\n",
    "print(\"[INFO] building the train and validation `tf.data` pipeline...\")\n",
    "trainDs = (trainTfDataset\n",
    "    .map(mapFunction)\n",
    "    .shuffle(config.BUFFER_SIZE)\n",
    "    .batch(config.BATCH_SIZE)\n",
    "    .prefetch(config.AUTO)\n",
    ")\n",
    "valDs = (valTfDataset\n",
    "    .map(mapFunction)\n",
    "    .batch(config.BATCH_SIZE)\n",
    "    .prefetch(config.AUTO)\n",
    ")\n",
    "# build the embedding module and the siamese network\n",
    "print(\"[INFO] build the siamese model...\")\n",
    "embeddingModule = get_embedding_module(imageSize=config.IMAGE_SIZE)\n",
    "siameseNetwork =  get_siamese_network(\n",
    "\timageSize=config.IMAGE_SIZE,\n",
    "\tembeddingModel=embeddingModule,\n",
    ")\n",
    "siameseModel = SiameseModel(\n",
    "\tsiameseNetwork=siameseNetwork,\n",
    "\tmargin=0.5,\n",
    "\tlossTracker=keras.metrics.Mean(name=\"loss\"),\n",
    ")\n",
    "# compile the siamese model\n",
    "siameseModel.compile(\n",
    "\toptimizer=keras.optimizers.Adam(config.LEARNING_RATE)\n",
    ")\n",
    "# train and validate the siamese model\n",
    "print(\"[INFO] training the siamese model...\")\n",
    "siameseModel.fit(\n",
    "\ttrainDs,\n",
    "\tsteps_per_epoch=config.STEPS_PER_EPOCH,\n",
    "\tvalidation_data=valDs,\n",
    "\tvalidation_steps=config.VALIDATION_STEPS,\n",
    "\tepochs=config.EPOCHS,\n",
    ")\n",
    "# check if the output directory exists, if it doesn't, then\n",
    "# create it\n",
    "if not os.path.exists(config.OUTPUT_PATH):\n",
    "\tos.makedirs(config.OUTPUT_PATH)\n",
    "# save the siamese network to disk\n",
    "modelPath = config.MODEL_PATH\n",
    "print(f\"[INFO] saving the siamese network to {modelPath}...\")\n",
    "keras.models.save_model(\n",
    "\tmodel=siameseModel.siameseNetwork,\n",
    "\tfilepath=modelPath,\n",
    "\tinclude_optimizer=False,\n",
    ")"
   ]
  }
 ],
 "metadata": {
  "kernelspec": {
   "display_name": "Python 3",
   "language": "python",
   "name": "python3"
  },
  "language_info": {
   "codemirror_mode": {
    "name": "ipython",
    "version": 3
   },
   "file_extension": ".py",
   "mimetype": "text/x-python",
   "name": "python",
   "nbconvert_exporter": "python",
   "pygments_lexer": "ipython3",
   "version": "3.8.8"
  }
 },
 "nbformat": 4,
 "nbformat_minor": 5
}
