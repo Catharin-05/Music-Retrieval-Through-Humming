{
 "cells": [
  {
   "cell_type": "code",
   "execution_count": 1,
   "id": "10e8ddf2",
   "metadata": {},
   "outputs": [],
   "source": [
    "# import the necessary packages\n",
    "from musicsearchmodel.model import SiameseModel\n",
    "from matplotlib import pyplot as plt\n",
    "from musicsearchmodel import config\n",
    "from sklearn.metrics import confusion_matrix\n",
    "from tensorflow import keras\n",
    "import tensorflow as tf\n",
    "import numpy as np\n",
    "import os"
   ]
  },
  {
   "cell_type": "code",
   "execution_count": 2,
   "id": "24105dc5",
   "metadata": {},
   "outputs": [],
   "source": [
    "### define function to compute metrics\n",
    "def metrics(predictions, label_gt):\n",
    "    TP_binary = np.logical_and(predictions, label_gt)\n",
    "    FP_binary = np.logical_and(predictions, np.logical_not(label_gt))\n",
    "    TN_binary = np.logical_and(np.logical_not(predictions), np.logical_not(label_gt))\n",
    "    FN_binary = np.logical_and(np.logical_not(predictions), label_gt)\n",
    "    \n",
    "    TP = sum(TP_binary )\n",
    "    FP = sum(FP_binary )\n",
    "    TN = sum(TN_binary )\n",
    "    FN = sum(FN_binary )\n",
    "    precision = TP/(TP+FP)\n",
    "    recall = TP/(FN+TP)\n",
    "    F1 = (2*precision*recall)/(precision+recall)\n",
    "    \n",
    "    return precision, recall, F1"
   ]
  },
  {
   "cell_type": "code",
   "execution_count": 3,
   "id": "192b24f4",
   "metadata": {},
   "outputs": [
    {
     "name": "stdout",
     "output_type": "stream",
     "text": [
      "[INFO] loading the siamese network from output\\siamese_network...\n",
      "WARNING:tensorflow:No training configuration found in save file, so the model was *not* compiled. Compile it manually.\n"
     ]
    }
   ],
   "source": [
    "modelPath = config.MODEL_PATH\n",
    "### Loading pre-trained siamese model for inference\n",
    "print(f\"[INFO] loading the siamese network from {modelPath}...\")\n",
    "siameseNetwork = keras.models.load_model(filepath=modelPath)\n",
    "siameseModel = SiameseModel(\n",
    "\tsiameseNetwork=siameseNetwork,\n",
    "\tmargin=0.5,\n",
    "\tlossTracker=keras.metrics.Mean(name=\"loss\"),\n",
    ")"
   ]
  },
  {
   "cell_type": "code",
   "execution_count": null,
   "id": "2ad011c4",
   "metadata": {},
   "outputs": [],
   "source": [
    "musicDatabasePath = ''\n",
    "img_height, img_width = config.IMAGE_SIZE\n",
    "print(f\"[INFO] Setting-up Data Pipeline...\")\n",
    "test_ds = tf.keras.utils.image_dataset_from_directory(\n",
    "  config.TEST_DATASET,\n",
    "  seed=123,\n",
    "  image_size=(img_height, img_width),\n",
    "  batch_size=1)\n",
    "music_ds = tf.keras.utils.image_dataset_from_directory(\n",
    "  musicDatabasePath,\n",
    "  seed=123,\n",
    "  image_size=(img_height, img_width),\n",
    "  batch_size=1)"
   ]
  },
  {
   "cell_type": "code",
   "execution_count": null,
   "id": "d9a6e368",
   "metadata": {},
   "outputs": [],
   "source": [
    "songs = []\n",
    "songLabels = []\n",
    "for entry in music_ds:\n",
    "    song, songLabel = entry\n",
    "    song_spectrogram = song/255\n",
    "    songs.append(song_spectrogram)\n",
    "    songLabels.append(songLabel)"
   ]
  },
  {
   "cell_type": "code",
   "execution_count": null,
   "id": "4113e4e6",
   "metadata": {},
   "outputs": [],
   "source": [
    "print(f\"[INFO] Making Predictions on Test Set...\")\n",
    "predictions = []\n",
    "labels = []\n",
    "for batch in test_ds:\n",
    "    batch_img, label = batch\n",
    "    image = batch_img/255"
   ]
  },
  {
   "cell_type": "code",
   "execution_count": null,
   "id": "7fab9b5b",
   "metadata": {},
   "outputs": [],
   "source": [
    "pred_distances = []"
   ]
  },
  {
   "cell_type": "code",
   "execution_count": null,
   "id": "bbb72e55",
   "metadata": {},
   "outputs": [],
   "source": [
    "for anchor in songs:\n",
    "    (apDistance, anDistance) = siameseModel((image , anchor, image))\n",
    "    pred_distances.append(apDistance.numpy())"
   ]
  },
  {
   "cell_type": "code",
   "execution_count": null,
   "id": "cd2ca173",
   "metadata": {},
   "outputs": [],
   "source": [
    "predictions.append(songLabels[np.argmin(pred_distances)][0])  \n",
    "labels.append(label.numpy()[0])"
   ]
  },
  {
   "cell_type": "code",
   "execution_count": null,
   "id": "6f3108b7",
   "metadata": {},
   "outputs": [],
   "source": [
    "labels = np.asarray(labels)\n",
    "predictions = np.asarray(predictions)\n",
    "print(f\"[INFO] Evaluating the model...\")\n",
    "##Computing Metrics\n",
    "N = labels.shape[0]\n",
    "accuracy = (labels == predictions).sum() / N"
   ]
  },
  {
   "cell_type": "code",
   "execution_count": null,
   "id": "633ee0b4",
   "metadata": {},
   "outputs": [],
   "source": [
    "for pos_label in [0,1,2,3,4]:\n",
    "    pred = (predictions == pos_label)\n",
    "    label_gt = (labels == pos_label)\n",
    "    precision, recall, F1_score = metrics(pred,label)"
   ]
  },
  {
   "cell_type": "code",
   "execution_count": null,
   "id": "6083454f",
   "metadata": {},
   "outputs": [],
   "source": [
    "cm = confusion_matrix(labels, predictions)\n",
    "recall = np.diag(cm) / np.sum(cm, axis = 1)\n",
    "precision = np.diag(cm) / np.sum(cm, axis = 0)"
   ]
  },
  {
   "cell_type": "code",
   "execution_count": null,
   "id": "26c94e9a",
   "metadata": {},
   "outputs": [],
   "source": [
    "recallOverall = np.mean(recall)\n",
    "precisionOverall = np.mean(precision)\n",
    "F1_overall = 2*recallOverall*precisionOverall/(recallOverall+precisionOverall)"
   ]
  },
  {
   "cell_type": "code",
   "execution_count": null,
   "id": "94d1b634",
   "metadata": {},
   "outputs": [],
   "source": []
  },
  {
   "cell_type": "code",
   "execution_count": null,
   "id": "86b694c9",
   "metadata": {},
   "outputs": [],
   "source": []
  }
 ],
 "metadata": {
  "kernelspec": {
   "display_name": "Python 3",
   "language": "python",
   "name": "python3"
  },
  "language_info": {
   "codemirror_mode": {
    "name": "ipython",
    "version": 3
   },
   "file_extension": ".py",
   "mimetype": "text/x-python",
   "name": "python",
   "nbconvert_exporter": "python",
   "pygments_lexer": "ipython3",
   "version": "3.8.8"
  }
 },
 "nbformat": 4,
 "nbformat_minor": 5
}
